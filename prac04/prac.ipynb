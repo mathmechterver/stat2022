{
  "cells": [
    {
      "cell_type": "markdown",
      "metadata": {
        "id": "0P8XOLWuE9Wu"
      },
      "source": [
        "# 4. Слабая сходимость, сходимость по распределению."
      ]
    },
    {
      "cell_type": "markdown",
      "metadata": {
        "id": "25Mz6dUNE9Wx"
      },
      "source": [
        "## Видео"
      ]
    },
    {
      "cell_type": "markdown",
      "metadata": {
        "id": "bHMJ6NwEE9Wy"
      },
      "source": [
        "[Сходимости последовательностей](https://stepik.org/lesson/48680/step/1?unit=26451)\n",
        "\n",
        "[Интеграл Лебега](https://www.youtube.com/watch?v=IA5ZttuI9Ms&list=PLys0IdlMg6Xdm0RSlnPaySWxCCYDpAbiL&index=13)"
      ]
    },
    {
      "cell_type": "markdown",
      "metadata": {
        "id": "dZ2HIF2RE9Wy"
      },
      "source": [
        "## Теория"
      ]
    },
    {
      "cell_type": "markdown",
      "metadata": {
        "id": "jndMJjoiE9Wz"
      },
      "source": [
        "[Традиционные лекции Черновой, в этот раз про слабую сходимость](https://nsu.ru/mmf/tvims/chernova/tv/lec/node59.html)\n",
        "\n",
        "\n",
        "[Введем интеграл Лебега](https://www.hse.ru/data/2015/02/24/1090761592/matan3mod-9.pdf)\n",
        "\n",
        "[Крутая методичка про интеграл Лебега в теории вероятности для математиков Самарского университета](http://repo.ssau.ru/bitstream/Uchebnye-posobiya/Integral-Lebega-v-teorii-veroyatnostei-Elektronnyi-resurs-ucheb-posobie-68472/1/%D0%9D%D0%BE%D0%B2%D0%B8%D0%BA%D0%BE%D0%B2%20%D0%A1.%D0%AF.%20%D0%98%D0%BD%D1%82%D0%B5%D0%B3%D1%80%D0%B0%D0%BB%20%D0%9B%D0%B5%D0%B1%D0%B5%D0%B3%D0%B0.pdf)\n",
        "\n",
        "[Здесь вы найдете подход, в котором введут известные вам понятия в теории вероятности по новому](https://kpfu.ru/staff_files/F101496462/Metody_Teor_Ver_I.pdf)"
      ]
    },
    {
      "cell_type": "markdown",
      "metadata": {
        "id": "qI3fzwdkE9Wz"
      },
      "source": [
        "### Слабая сходимость мер.\n",
        "$\\mu_n \\overset{w}{\\to} \\mu$, если для любой непрерывной функции $\\phi(x)$ определенной на $\\mathbb{R}$   \n",
        "\n",
        "$$\\int_{\\mathbb{R}}\\phi(x)\\mu_n(dx) \\to \\int_{\\mathbb{R}}\\phi(x)\\mu(dx)$$"
      ]
    },
    {
      "cell_type": "markdown",
      "metadata": {
        "id": "49XjPiF7E9W0"
      },
      "source": [
        "### Сходимость по распределению \n",
        "\n",
        "**Определение через слабую сходимость мер:**\n",
        "\n",
        "$\\xi_n \\overset{d}{\\to} \\xi$, если для любой непрерывной функции $\\phi(x)$ определенной на $\\mathbb{R}$\n",
        "\n",
        "$$\\int_{\\Omega}\\phi(\\xi_n(\\omega))\\mathbb{P}(d\\omega) \\to \\int_{\\Omega}\\phi(\\xi(\\omega))\\mathbb{P}(d\\omega)$$\n",
        "\n",
        "В интегралах Лебега можно производить замену переменных, поэтому:\n",
        "\n",
        "$$\\int_{\\Omega}\\phi(\\xi(\\omega))\\mathbb{P}(d\\omega) = \\int_{\\mathbb{R}}\\phi(x)P^{X}(dx)$$\n",
        "\n",
        "А значит: \n",
        "\n",
        "$$\\int_{\\mathbb{R}}\\phi(x)P^{x_n}(dx) \\to \\int_{\\mathbb{R}}\\phi(x)P^{X}(dx)$$\n",
        "\n",
        "А также если немного порефлексировать, то можно заметить, что:\n",
        "\n",
        "$$\\int_{\\Omega}\\phi(\\xi(\\omega))\\mathbb{P}(d\\omega) = \\mathbb{E}(\\phi(\\xi))$$\n"
      ]
    },
    {
      "cell_type": "markdown",
      "metadata": {
        "id": "Ytj8jzfSE9W0"
      },
      "source": [
        "### Сходимость по распределению \n",
        "\n",
        "**Определение через функции распределения:**\n",
        "\n",
        "$\\xi_n \\overset{d}{\\to} \\xi$, если для любого $x$, в котором $F_{\\xi}(x)$ непрерывна имеет место сходимость:\n",
        "\n",
        "$$\\forall x F_{\\xi_n}(x) \\to F_{\\xi}(x), F_{\\mu}(x) = \\mu((-\\infty, x))$$\n"
      ]
    },
    {
      "cell_type": "markdown",
      "metadata": {
        "id": "5MudxdF1E9W1"
      },
      "source": [
        "## Задачи на пару"
      ]
    },
    {
      "cell_type": "markdown",
      "metadata": {
        "id": "s0B2ufiPE9W2"
      },
      "source": [
        "**1.** Пусть $\\xi_n \\overset{d}{\\to} \\xi$ и $g(x)$ - непрерывная функция. Докажите, что $g(\\xi_n) \\overset{d}{\\to} g(\\xi)$\n",
        "\n",
        "**2.** Как соотносятся между собой следующие типы сходимости? Какая самая сильная? \n",
        "\n",
        "$\\text{Почти наверное}$ ; $\\text{По вероятности}$ ; $\\text{По распределению (слабая)}$\n",
        "\n",
        "1. Доказать переходы между каждой парой (более сильная сходимость => более слабая сходимость).\n",
        "2. Для каждой пары привести пример, когда есть более слабая сходимость, но нет более сильной.\n",
        "\n",
        "**3.** Если $\\xi_n \\overset{d}{\\to} const$, то $\\xi_n \\overset{\\mathbb{P}}{\\to} const$\n",
        "\n",
        "**4.** Пусть $\\{\\xi_i\\}_{i=1}^{\\infty}$ - положительно определенные и $E|\\xi_n - \\xi| \\to 0$. \n",
        "Сходится ли $E|\\xi_n + k| \\to E|\\xi+k|$ для k из $\\mathbb{R_{+}}$. "
      ]
    },
    {
      "cell_type": "markdown",
      "metadata": {
        "id": "0jqZZJ41E9W2"
      },
      "source": [
        "## ДЗ (Пока не готова)"
      ]
    },
    {
      "cell_type": "markdown",
      "metadata": {
        "id": "4QtSTR6cE9W3"
      },
      "source": [
        "**1.** (1) Пусть $\\xi_n \\overset{d}{\\to} \\xi$ и $\\mu_n \\overset{\\mathbb{P}}{\\to} 0$. Доказать, что\n",
        "$ \\xi_n + \\mu_n \\overset{d}{\\to} \\xi$\n",
        "\n",
        "**2.** Пусть $\\alpha > 0$ и $E|\\xi_n|^\\alpha < \\infty$ при всех n. Доказать, что следующие\n",
        "утверждения:\n",
        "\n",
        "- (1) Если $\\xi_n \\overset{\\mathbb{P}}{\\to} \\xi$, то $E|\\xi_n - \\xi|^\\alpha \\underset{n \\to \\infty}{\\to} 0$ \n",
        "- (1) Если $E|\\xi_n - \\xi|^\\alpha \\underset{n \\to \\infty}{\\to} 0$, то $\\xi_n \\overset{\\mathbb{P}}{\\to} \\xi$ "
      ]
    },
    {
      "cell_type": "markdown",
      "metadata": {
        "id": "j8sgga-5E9W3"
      },
      "source": [
        "## Гробы\n",
        "\n",
        "![title](https://github.com/mathmechterver/stat2022/blob/master/prac04/tombs3.png?raw=1)"
      ]
    }
  ],
  "metadata": {
    "kernelspec": {
      "display_name": "Python 3",
      "language": "python",
      "name": "python3"
    },
    "language_info": {
      "codemirror_mode": {
        "name": "ipython",
        "version": 3
      },
      "file_extension": ".py",
      "mimetype": "text/x-python",
      "name": "python",
      "nbconvert_exporter": "python",
      "pygments_lexer": "ipython3",
      "version": "3.8.8"
    },
    "colab": {
      "name": "prac.ipynb",
      "provenance": []
    }
  },
  "nbformat": 4,
  "nbformat_minor": 0
}