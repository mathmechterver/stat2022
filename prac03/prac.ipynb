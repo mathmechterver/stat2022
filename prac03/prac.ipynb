{
  "cells": [
    {
      "cell_type": "markdown",
      "metadata": {
        "id": "iwtktD60VkaR"
      },
      "source": [
        "# 3. Закон Больших Чисел"
      ]
    },
    {
      "cell_type": "markdown",
      "metadata": {
        "id": "Tr_FydMlVkaW"
      },
      "source": [
        "## Видеоматериалы\n",
        "[ЗБЧ](https://stepik.org/lesson/48670/step/9?unit=26442)\n",
        "\n",
        "[УЗБЧ](https://stepik.org/lesson/48670/step/10?unit=26442)"
      ]
    },
    {
      "cell_type": "markdown",
      "metadata": {
        "id": "E-rRMgPSVkaX"
      },
      "source": [
        "## Теория\n",
        "[Законы больших Чисел](https://nsu.ru/mmf/tvims/chernova/tv/lec/node55.html#SECTION0001230)\n",
        "\n",
        "[Использование ЗБЧ](https://nsu.ru/mmf/tvims/chernova/tv/lec/node56.html#SECTION0001240)"
      ]
    },
    {
      "cell_type": "markdown",
      "source": [
        "### ЗБЧ\n",
        "Говорят, что последовательность случайных величин удовлетворяет ЗБЧ, если\n",
        "\n",
        "$$\\frac{\\sum_{i=1}^n\\xi_i}{n} \\overset{\\mathbb{P}}{\\to} \\frac{\\sum_{i=1}^nE\\xi_i}{n} $$"
      ],
      "metadata": {
        "id": "frT2x_DjVm1y"
      }
    },
    {
      "cell_type": "markdown",
      "metadata": {
        "id": "ALmYXxkgVkaY"
      },
      "source": [
        "### ЗБЧ Чебышева\n",
        "Для **попарно независимых и одинаковораспределенных**\n",
        "$\\{\\xi_i\\}_{i=1}^{\\infty}$ с конечными **вторыми** моментами\n",
        "$$\\frac{\\sum_{i=1}^n\\xi_i}{n} \\overset{\\mathbb{P}}{\\to} \\mathbb{E}\\xi_1$$\t\n",
        "\n",
        "### ЗБЧ Хинчина\n",
        "Для **в совокупности независимых и одинаковораспределенных**\n",
        "$\\{\\xi_i\\}_{i=1}^{\\infty}$ с конечными **первыми** моментами\n",
        "$$\\frac{\\sum_{i=1}^n\\xi_i}{n} \\overset{\\mathbb{P}}{\\to} \\mathbb{E}\\xi_1$$\t\n",
        "\n",
        "### ЗБЧ Маркова\n",
        "Для **необязательно независимых и необязательно одинаковораспределенных**\n",
        "$\\{\\xi_i\\}_{i=1}^{\\infty}$, для которых $\\mathbb{D}\\sum_{i=1}^{n}(\\xi_i) = o(n^2)$\n",
        "$$\\frac{\\sum_{i=1}^n\\xi_i}{n} \\overset{\\mathbb{P}}{\\to} \\mathbb{E}\\frac{\\sum_{i=1}^n\\xi_i}{n}$$\n",
        "\n",
        "### Усиленный Закон больших чисел Колмогорова\n",
        "Для тех же условий, что и обычные ЗБЧ\n",
        "$$\\frac{\\sum_{i=1}^n\\xi_i}{n} \\overset{\\textrm{п.н.}}{\\to} \\mathbb{E}\\xi_1$$\n",
        "\n",
        "### Дополнительные свойства сходимости по вероятности\n",
        "\n",
        "1. Если $\\xi_n\\overset{\\mathbb{P}}{\\to}\\xi$ и $\\eta_n\\overset{\\mathbb{P}}{\\to}\\eta$, то $\\xi_n + \\eta_n\\overset{\\mathbb{P}}{\\to}\\xi + \\eta$\n",
        "2. Если $\\xi_n\\overset{\\mathbb{P}}{\\to}\\xi$ и $\\eta_n\\overset{\\mathbb{P}}{\\to}\\eta$, то $\\xi_n\\eta_n\\overset{\\mathbb{P}}{\\to}\\xi\\eta$"
      ]
    },
    {
      "cell_type": "markdown",
      "metadata": {
        "id": "np12ahRkVkaY"
      },
      "source": [
        "## Задачи на пару"
      ]
    },
    {
      "cell_type": "markdown",
      "metadata": {
        "id": "hCx3_yy2VkaZ"
      },
      "source": [
        "**1.** Монета подбрасывается 10000 раз. Оценим вероятность того, что частота выпадения герба отличается от $\\frac{1}{2}$ на 0,01 или более с помощью неравенства Чебышева."
      ]
    },
    {
      "cell_type": "markdown",
      "metadata": {
        "id": "ybNwBWnfVkaZ"
      },
      "source": [
        "**2.** *Достаточное условие ЗБЧ Чебышева.* $\\{\\xi_i\\}_{i=1}^{\\infty}$ - попарно независимые, одинаково распределенные, с конечными вторыми моментами. Докажите, что $\\frac{\\sum_{i=1}^n\\xi_i}{n} \\overset{\\mathbb{P}}{\\to} \\mathbb{E}\\xi_1$. Как получить *достаточное условие ЗБЧ Маркова?*"
      ]
    },
    {
      "cell_type": "markdown",
      "metadata": {
        "id": "ydmRdnByVkaa"
      },
      "source": [
        "**3.** $\\{\\xi_i\\}_{i=1}^{\\infty}$ - случайные величины, дисперсии которых ограничены одной и той же величиной $C$, а также для всех $i \\ne j$, не являющихся соседними элементами последовательности $cov(x_i, x_j) = 0$. Удовлетворяет ли эта последовательность ЗБЧ?"
      ]
    },
    {
      "cell_type": "markdown",
      "metadata": {
        "id": "R8Ttr8j0Vkab"
      },
      "source": [
        "**4.** Пусть $\\xi_n$ принимает значения $-\\alpha n$, $0$, $\\alpha n$ c вероятностями:\n",
        "$\\frac{1}{2 n^2}$, $1 - \\frac{1}{n^2}$, $\\frac{1}{2 n^2}$ соотвественно.\n",
        "Выполнен ли закон больших чисел для последовательности независимых $\\{\\xi_n\\}$?"
      ]
    },
    {
      "cell_type": "markdown",
      "metadata": {
        "id": "DX50AfWLVkab"
      },
      "source": [
        "**5.** Пусть $\\{\\xi_i\\}_{i=1}^{\\infty}$ с конечными матожиданием $\\mu$ и дисперсией $\\sigma^2$, одинаково распределенные, независимые в совокупности, положительные случайные величины. Положим $\\eta_n = \\frac{\\xi_1 + \\ldots + \\xi_n}{\\xi_1^2 + \\ldots + \\xi_n^2}$. Доказать, что $\\eta_n$ сходится по вероятности и найти этот предел."
      ]
    },
    {
      "cell_type": "markdown",
      "metadata": {
        "id": "G-pCFLx-Vkac"
      },
      "source": [
        "## ДЗ"
      ]
    },
    {
      "cell_type": "markdown",
      "metadata": {
        "id": "qIICNX8TVkac"
      },
      "source": [
        "**1.** (1)Вероятность наступления некоторого события $A$ в каждом из $1500$\n",
        "испытаний равна $0,2$. Оценить вероятность того, что отклонение числа\n",
        "наступлений события А от математического ожидания будет не менее $40$."
      ]
    },
    {
      "cell_type": "markdown",
      "metadata": {
        "id": "75HtELNgVkad"
      },
      "source": [
        "**2.** (1)$\\{\\xi_i\\}_{i=1}^{\\infty}$ - попарно независимые случайные величины. Пусть $\\xi_n$ принимает значения $-2 \\sqrt{n}$, $0$, $2 \\sqrt{n}$ c вероятностями:\n",
        "$\\frac{1}{2 n}$, $1 - \\frac{1}{n}$, $\\frac{1}{2 n}$ соотвественно.\n",
        "Выполнен ли закон больших чисел?"
      ]
    },
    {
      "cell_type": "markdown",
      "metadata": {
        "id": "nvrEi_deVkad"
      },
      "source": [
        "**3.** (1)Случайные величины $X_n$ принимает значения $e ^ {ln(0,5 N)}$ и $e ^ {ln(1,2 N)}$ с\n",
        "одинаковыми вероятностями и являются независимыми. Можно ли к последовательности $X_n$ применить закон\n",
        "больших чисел? "
      ]
    },
    {
      "cell_type": "markdown",
      "metadata": {
        "id": "rkZl6fPQVkae"
      },
      "source": [
        "**4.** (1) Пусть $\\{\\xi_i\\}_{i=1}^{\\infty}$ — последовательность независимых одинаково\n",
        "распределённых случайных величин, $\\{a_i\\}_{i=1}^{\\infty}$ — ограниченная последовательность неотрицательных чисел. Можно ли утверждать, что если ЗБЧ\n",
        "выполнен для последовательности $\\{\\xi_i\\}_{i=1}^{\\infty}$, то он выполнен и для последовательности $\\{\\eta_i\\}_{i=1}^{\\infty}$, где $\\eta_i = a_n \\xi_n$?"
      ]
    },
    {
      "cell_type": "markdown",
      "metadata": {
        "id": "8Mbh9S7qVkae"
      },
      "source": [
        "**5.** (1) Проводятся испытания Бернулли с вероятностью успеха $p$. Положим $\\xi_n = 1$, если $n$-е и $(n + 1)$-е испытания закончились успехом, и\n",
        "$\\xi_n = 0$ иначе. Выполнен ли для последовательности $\\{\\xi_n\\}$ ЗБЧ?"
      ]
    },
    {
      "cell_type": "markdown",
      "metadata": {
        "id": "3A0yxS57Vkae"
      },
      "source": [
        "# Гробы (все по 2)"
      ]
    },
    {
      "cell_type": "markdown",
      "metadata": {
        "id": "x4prgu-jVkae"
      },
      "source": [
        "![title](https://github.com/mathmechterver/stat2022/blob/master/prac03/tombs1.png?raw=1)"
      ]
    }
  ],
  "metadata": {
    "kernelspec": {
      "display_name": "Python 3",
      "language": "python",
      "name": "python3"
    },
    "language_info": {
      "codemirror_mode": {
        "name": "ipython",
        "version": 3
      },
      "file_extension": ".py",
      "mimetype": "text/x-python",
      "name": "python",
      "nbconvert_exporter": "python",
      "pygments_lexer": "ipython3",
      "version": "3.8.8"
    },
    "colab": {
      "name": "prac.ipynb",
      "provenance": []
    }
  },
  "nbformat": 4,
  "nbformat_minor": 0
}
